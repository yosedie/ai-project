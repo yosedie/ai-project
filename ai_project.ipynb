{
  "cells": [
    {
      "cell_type": "markdown",
      "metadata": {
        "colab_type": "text",
        "id": "view-in-github"
      },
      "source": [
        "<a href=\"https://colab.research.google.com/github/yosedie/ai-project/blob/main/ai_project.ipynb\" target=\"_parent\"><img src=\"https://colab.research.google.com/assets/colab-badge.svg\" alt=\"Open In Colab\"/></a>"
      ]
    },
    {
      "cell_type": "markdown",
      "metadata": {
        "id": "Pli0lVZhX1kb"
      },
      "source": [
        "ai-project"
      ]
    },
    {
      "cell_type": "code",
      "execution_count": 1,
      "metadata": {
        "id": "cw2lqaVXTxHB"
      },
      "outputs": [
        {
          "name": "stdout",
          "output_type": "stream",
          "text": [
            " .     .     . \n",
            "    .     .    \n",
            " .  .  .  .  . \n",
            "    .     .    \n",
            " .     .     . \n",
            "\n",
            "\n",
            "Giliran Macan\n"
          ]
        },
        {
          "ename": "ValueError",
          "evalue": "not enough values to unpack (expected 2, got 0)",
          "output_type": "error",
          "traceback": [
            "\u001b[1;31m---------------------------------------------------------------------------\u001b[0m",
            "\u001b[1;31mValueError\u001b[0m                                Traceback (most recent call last)",
            "Cell \u001b[1;32mIn[1], line 99\u001b[0m\n\u001b[0;32m     96\u001b[0m         \u001b[38;5;28mprint\u001b[39m(\u001b[38;5;124m\"\u001b[39m\u001b[38;5;124mCek kondisi akhir permainan...\u001b[39m\u001b[38;5;130;01m\\n\u001b[39;00m\u001b[38;5;124m\"\u001b[39m)\n\u001b[0;32m     98\u001b[0m \u001b[38;5;28;01mif\u001b[39;00m \u001b[38;5;18m__name__\u001b[39m \u001b[38;5;241m==\u001b[39m \u001b[38;5;124m\"\u001b[39m\u001b[38;5;124m__main__\u001b[39m\u001b[38;5;124m\"\u001b[39m:\n\u001b[1;32m---> 99\u001b[0m     \u001b[43mmain\u001b[49m\u001b[43m(\u001b[49m\u001b[43m)\u001b[49m\n",
            "Cell \u001b[1;32mIn[1], line 80\u001b[0m, in \u001b[0;36mmain\u001b[1;34m()\u001b[0m\n\u001b[0;32m     78\u001b[0m \u001b[38;5;28;01mwhile\u001b[39;00m \u001b[38;5;28;01mTrue\u001b[39;00m:\n\u001b[0;32m     79\u001b[0m     \u001b[38;5;28;01mif\u001b[39;00m current_player \u001b[38;5;241m==\u001b[39m \u001b[38;5;241m1\u001b[39m:  \u001b[38;5;66;03m# Giliran macan\u001b[39;00m\n\u001b[1;32m---> 80\u001b[0m         \u001b[38;5;28;01mif\u001b[39;00m \u001b[38;5;129;01mnot\u001b[39;00m \u001b[43mplayer_turn\u001b[49m\u001b[43m(\u001b[49m\u001b[38;5;241;43m1\u001b[39;49m\u001b[43m)\u001b[49m:\n\u001b[0;32m     81\u001b[0m             \u001b[38;5;28;01mcontinue\u001b[39;00m\n\u001b[0;32m     82\u001b[0m     \u001b[38;5;28;01melse\u001b[39;00m:  \u001b[38;5;66;03m# Giliran uwong\u001b[39;00m\n",
            "Cell \u001b[1;32mIn[1], line 59\u001b[0m, in \u001b[0;36mplayer_turn\u001b[1;34m(player)\u001b[0m\n\u001b[0;32m     56\u001b[0m \u001b[38;5;28;01melse\u001b[39;00m:\n\u001b[0;32m     57\u001b[0m     \u001b[38;5;28mprint\u001b[39m(\u001b[38;5;124m\"\u001b[39m\u001b[38;5;124mGiliran Uwong\u001b[39m\u001b[38;5;124m\"\u001b[39m)\n\u001b[1;32m---> 59\u001b[0m x, y \u001b[38;5;241m=\u001b[39m \u001b[38;5;28mmap\u001b[39m(\u001b[38;5;28mint\u001b[39m, \u001b[38;5;28minput\u001b[39m(\u001b[38;5;124m\"\u001b[39m\u001b[38;5;124mMasukkan posisi awal (x y): \u001b[39m\u001b[38;5;124m\"\u001b[39m)\u001b[38;5;241m.\u001b[39msplit())\n\u001b[0;32m     60\u001b[0m \u001b[38;5;28;01mif\u001b[39;00m player \u001b[38;5;241m==\u001b[39m \u001b[38;5;241m1\u001b[39m:  \u001b[38;5;66;03m# Macan bergerak\u001b[39;00m\n\u001b[0;32m     61\u001b[0m     x2, y2 \u001b[38;5;241m=\u001b[39m \u001b[38;5;28mmap\u001b[39m(\u001b[38;5;28mint\u001b[39m, \u001b[38;5;28minput\u001b[39m(\u001b[38;5;124m\"\u001b[39m\u001b[38;5;124mMasukkan posisi tujuan (x y): \u001b[39m\u001b[38;5;124m\"\u001b[39m)\u001b[38;5;241m.\u001b[39msplit())\n",
            "\u001b[1;31mValueError\u001b[0m: not enough values to unpack (expected 2, got 0)"
          ]
        }
      ],
      "source": [
        "import numpy as np\n",
        "\n",
        "# Representasi papan sebagai matriks\n",
        "# 0 = kosong, 1 = macan, 2 = uwong\n",
        "board = np.zeros((5, 5), dtype=int)\n",
        "\n",
        "# Koordinat valid (bentuk papan permainan)\n",
        "valid_positions = [\n",
        "    (0, 0), (0, 2), (0, 4),\n",
        "    (1, 1), (1, 3),\n",
        "    (2, 0), (2, 1), (2, 2), (2, 3), (2, 4),\n",
        "    (3, 1), (3, 3),\n",
        "    (4, 0), (4, 2), (4, 4)\n",
        "]\n",
        "\n",
        "# Menampilkan papan\n",
        "def print_board():\n",
        "    for i in range(5):\n",
        "        row = \"\"\n",
        "        for j in range(5):\n",
        "            if (i, j) not in valid_positions:\n",
        "                row += \"   \"  # Posisi tidak valid\n",
        "            elif board[i, j] == 0:\n",
        "                row += \" . \"  # Kosong\n",
        "            elif board[i, j] == 1:\n",
        "                row += \" M \"  # Macan\n",
        "            elif board[i, j] == 2:\n",
        "                row += \" U \"  # Uwong\n",
        "        print(row)\n",
        "    print(\"\\n\")\n",
        "\n",
        "# Cek apakah langkah valid\n",
        "def is_valid_move(x, y):\n",
        "    return (x, y) in valid_positions and board[x, y] == 0\n",
        "\n",
        "# Peletakan awal pion\n",
        "def place_piece(player, x, y):\n",
        "    if is_valid_move(x, y):\n",
        "        board[x, y] = player\n",
        "        return True\n",
        "    return False\n",
        "\n",
        "# Gerakan pion\n",
        "def move_piece(player, x1, y1, x2, y2):\n",
        "    if board[x1, y1] == player and is_valid_move(x2, y2):\n",
        "        board[x1, y1] = 0\n",
        "        board[x2, y2] = player\n",
        "        return True\n",
        "    return False\n",
        "\n",
        "# Logika giliran\n",
        "def player_turn(player):\n",
        "    print_board()\n",
        "    if player == 1:\n",
        "        print(\"Giliran Macan\")\n",
        "    else:\n",
        "        print(\"Giliran Uwong\")\n",
        "\n",
        "    x, y = map(int, input(\"Masukkan posisi awal (x y): \").split())\n",
        "    if player == 1:  # Macan bergerak\n",
        "        x2, y2 = map(int, input(\"Masukkan posisi tujuan (x y): \").split())\n",
        "        if move_piece(player, x, y, x2, y2):\n",
        "            return True\n",
        "    else:  # Uwong meletakkan pion\n",
        "        if place_piece(player, x, y):\n",
        "            return True\n",
        "\n",
        "    print(\"Langkah tidak valid, coba lagi.\")\n",
        "    return False\n",
        "\n",
        "# Permainan utama\n",
        "def main():\n",
        "    uwong_count = 8\n",
        "    placed_uwong = 0\n",
        "    macan_count = 2\n",
        "    current_player = 1  # Macan memulai permainan\n",
        "\n",
        "    while True:\n",
        "        if current_player == 1:  # Giliran macan\n",
        "            if not player_turn(1):\n",
        "                continue\n",
        "        else:  # Giliran uwong\n",
        "            if placed_uwong < uwong_count:\n",
        "                if not player_turn(2):\n",
        "                    continue\n",
        "                placed_uwong += 1\n",
        "            else:  # Uwong habis, mulai bergerak\n",
        "                if not player_turn(2):\n",
        "                    continue\n",
        "\n",
        "        # Ganti giliran\n",
        "        current_player = 3 - current_player  # Bergantian 1 -> 2, 2 -> 1\n",
        "\n",
        "        # Logika akhir permainan\n",
        "        # Tambahkan logika menang/kalah di sini\n",
        "        print(\"Cek kondisi akhir permainan...\\n\")\n",
        "\n",
        "if __name__ == \"__main__\":\n",
        "    main()\n"
      ]
    }
  ],
  "metadata": {
    "accelerator": "GPU",
    "colab": {
      "authorship_tag": "ABX9TyMNjv/08TEEXsmbYmNz/xfE",
      "gpuType": "T4",
      "include_colab_link": true,
      "provenance": []
    },
    "kernelspec": {
      "display_name": "Python 3",
      "name": "python3"
    },
    "language_info": {
      "codemirror_mode": {
        "name": "ipython",
        "version": 3
      },
      "file_extension": ".py",
      "mimetype": "text/x-python",
      "name": "python",
      "nbconvert_exporter": "python",
      "pygments_lexer": "ipython3",
      "version": "3.13.0"
    }
  },
  "nbformat": 4,
  "nbformat_minor": 0
}
