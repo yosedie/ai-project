{
  "nbformat": 4,
  "nbformat_minor": 0,
  "metadata": {
    "colab": {
      "provenance": [],
      "gpuType": "T4",
      "authorship_tag": "ABX9TyMNjv/08TEEXsmbYmNz/xfE",
      "include_colab_link": true
    },
    "kernelspec": {
      "name": "python3",
      "display_name": "Python 3"
    },
    "language_info": {
      "name": "python"
    },
    "accelerator": "GPU"
  },
  "cells": [
    {
      "cell_type": "markdown",
      "metadata": {
        "id": "view-in-github",
        "colab_type": "text"
      },
      "source": [
        "<a href=\"https://colab.research.google.com/github/yosedie/ai-project/blob/main/ai_project.ipynb\" target=\"_parent\"><img src=\"https://colab.research.google.com/assets/colab-badge.svg\" alt=\"Open In Colab\"/></a>"
      ]
    },
    {
      "cell_type": "markdown",
      "source": [
        "ai-project"
      ],
      "metadata": {
        "id": "Pli0lVZhX1kb"
      }
    },
    {
      "cell_type": "code",
      "execution_count": null,
      "metadata": {
        "id": "cw2lqaVXTxHB"
      },
      "outputs": [],
      "source": [
        "import numpy as np\n",
        "\n",
        "# Representasi papan sebagai matriks\n",
        "# 0 = kosong, 1 = macan, 2 = uwong\n",
        "board = np.zeros((5, 5), dtype=int)\n",
        "\n",
        "# Koordinat valid (bentuk papan permainan)\n",
        "valid_positions = [\n",
        "    (0, 0), (0, 2), (0, 4),\n",
        "    (1, 1), (1, 3),\n",
        "    (2, 0), (2, 1), (2, 2), (2, 3), (2, 4),\n",
        "    (3, 1), (3, 3),\n",
        "    (4, 0), (4, 2), (4, 4)\n",
        "]\n",
        "\n",
        "# Menampilkan papan\n",
        "def print_board():\n",
        "    for i in range(5):\n",
        "        row = \"\"\n",
        "        for j in range(5):\n",
        "            if (i, j) not in valid_positions:\n",
        "                row += \"   \"  # Posisi tidak valid\n",
        "            elif board[i, j] == 0:\n",
        "                row += \" . \"  # Kosong\n",
        "            elif board[i, j] == 1:\n",
        "                row += \" M \"  # Macan\n",
        "            elif board[i, j] == 2:\n",
        "                row += \" U \"  # Uwong\n",
        "        print(row)\n",
        "    print(\"\\n\")\n",
        "\n",
        "# Cek apakah langkah valid\n",
        "def is_valid_move(x, y):\n",
        "    return (x, y) in valid_positions and board[x, y] == 0\n",
        "\n",
        "# Peletakan awal pion\n",
        "def place_piece(player, x, y):\n",
        "    if is_valid_move(x, y):\n",
        "        board[x, y] = player\n",
        "        return True\n",
        "    return False\n",
        "\n",
        "# Gerakan pion\n",
        "def move_piece(player, x1, y1, x2, y2):\n",
        "    if board[x1, y1] == player and is_valid_move(x2, y2):\n",
        "        board[x1, y1] = 0\n",
        "        board[x2, y2] = player\n",
        "        return True\n",
        "    return False\n",
        "\n",
        "# Logika giliran\n",
        "def player_turn(player):\n",
        "    print_board()\n",
        "    if player == 1:\n",
        "        print(\"Giliran Macan\")\n",
        "    else:\n",
        "        print(\"Giliran Uwong\")\n",
        "\n",
        "    x, y = map(int, input(\"Masukkan posisi awal (x y): \").split())\n",
        "    if player == 1:  # Macan bergerak\n",
        "        x2, y2 = map(int, input(\"Masukkan posisi tujuan (x y): \").split())\n",
        "        if move_piece(player, x, y, x2, y2):\n",
        "            return True\n",
        "    else:  # Uwong meletakkan pion\n",
        "        if place_piece(player, x, y):\n",
        "            return True\n",
        "\n",
        "    print(\"Langkah tidak valid, coba lagi.\")\n",
        "    return False\n",
        "\n",
        "# Permainan utama\n",
        "def main():\n",
        "    uwong_count = 8\n",
        "    placed_uwong = 0\n",
        "    macan_count = 2\n",
        "    current_player = 1  # Macan memulai permainan\n",
        "\n",
        "    while True:\n",
        "        if current_player == 1:  # Giliran macan\n",
        "            if not player_turn(1):\n",
        "                continue\n",
        "        else:  # Giliran uwong\n",
        "            if placed_uwong < uwong_count:\n",
        "                if not player_turn(2):\n",
        "                    continue\n",
        "                placed_uwong += 1\n",
        "            else:  # Uwong habis, mulai bergerak\n",
        "                if not player_turn(2):\n",
        "                    continue\n",
        "\n",
        "        # Ganti giliran\n",
        "        current_player = 3 - current_player  # Bergantian 1 -> 2, 2 -> 1\n",
        "\n",
        "        # Logika akhir permainan\n",
        "        # Tambahkan logika menang/kalah di sini\n",
        "        print(\"Cek kondisi akhir permainan...\\n\")\n",
        "\n",
        "if __name__ == \"__main__\":\n",
        "    main()\n"
      ]
    }
  ]
}